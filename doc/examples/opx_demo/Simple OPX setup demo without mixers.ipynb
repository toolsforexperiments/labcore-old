{
 "cells": [
  {
   "cell_type": "markdown",
   "id": "491887ef-8a6e-47fd-b99d-cbd6da3aef7f",
   "metadata": {},
   "source": [
    "# README"
   ]
  },
  {
   "cell_type": "markdown",
   "id": "73a77995-e2e2-4631-b445-b29405fa9ad7",
   "metadata": {},
   "source": [
    "This notebook is a good starting point for learning how we run our measurements.\n",
    "We will setup a 'dry run', i.e., perform a dummy measurement in which we will simply directly measure the output of the OPX.\n",
    "\n",
    "We assume that one of the DACs of the OPX is directly connected to one of the ADCs.\n",
    "\n",
    "To use this notebook, you have to do the following things first:\n",
    "- make sure you have a valid configuration for the OPX. You'll probably have to read the QUA code a bit and make sure it's all compatible. This notebook comes with one that was used to test this notebook. It makes use of the ParameterManager (see next point). Make sure the config corresponds correctly with your hardware setup.\n",
    "- have instrumentserver started, and a ParameterManager instrument instantiated. This notebook comes with pre-saved parameters that were used during testing. They are used in the OPX config.\n",
    "\n",
    "Once this is done, you should be able to execute the below (some config needed)."
   ]
  },
  {
   "cell_type": "markdown",
   "id": "de86362f-ebb8-43a8-8f8c-b213176f507b",
   "metadata": {
    "tags": []
   },
   "source": [
    "# Initialization"
   ]
  },
  {
   "cell_type": "code",
   "execution_count": 1,
   "id": "cb1cc0c8-cde3-43ec-821f-52a7d9d3f49d",
   "metadata": {},
   "outputs": [],
   "source": [
    "%matplotlib inline"
   ]
  },
  {
   "cell_type": "markdown",
   "id": "65ac0359-bee0-4464-a4e5-573435d89255",
   "metadata": {
    "tags": []
   },
   "source": [
    "## setup for measurements\n",
    "\n",
    "This should be the only place where specific settings of your setup need to be declared."
   ]
  },
  {
   "cell_type": "code",
   "execution_count": 2,
   "id": "f7070441-19e6-41eb-adb9-ba54c3f1f275",
   "metadata": {},
   "outputs": [
    {
     "name": "stdout",
     "output_type": "stream",
     "text": [
      "[2022-12-01 18:14:50.673] [root: INFO] Logging set up for <RootLogger root (INFO)>.\n",
      "[2022-12-01 18:14:50.674] [instrumentserver.client.core: INFO] Connecting to tcp://localhost:5555\n"
     ]
    }
   ],
   "source": [
    "### basic measurement setup\n",
    "\n",
    "from instrumentserver.client import Client\n",
    "from labcore.setup import setup_opx_measurements\n",
    "from labcore.setup.setup_opx_measurements import *\n",
    "\n",
    "# get the client to the instrumentserver, with default settings.\n",
    "isrvr = Client()\n",
    "\n",
    "# fill in the name of your parameter manager instrument.\n",
    "params = find_or_create_remote_instrument(isrvr, 'simple_demo_params')  \n",
    "\n",
    "# make sure you specify the correct IP and port for your OPX system.\n",
    "import qmcfg_simple_demo as qmcfg\n",
    "qm_config = qmcfg.QMConfig(params, '128.174.248.249', '80')\n",
    "\n",
    "# these need to be specified so all measurement code is configured correctly\n",
    "setup_opx_measurements.options.instrument_clients = {'instruments': isrvr}\n",
    "setup_opx_measurements.options.parameters = params\n",
    "setup_opx_measurements.options.qm_config = qm_config"
   ]
  },
  {
   "cell_type": "markdown",
   "id": "b2221e64-8eb1-4644-ae7d-6d7d56fb84f4",
   "metadata": {},
   "source": [
    "## setup for analysis\n",
    "\n",
    "we import everything we need below to load data and analyze it."
   ]
  },
  {
   "cell_type": "code",
   "execution_count": 3,
   "id": "66c4054e-f5ee-44cb-beba-11721b05959c",
   "metadata": {},
   "outputs": [],
   "source": [
    "### basic plotting and analysis setup\n",
    "import numpy as np\n",
    "from matplotlib import pyplot as plt\n",
    "\n",
    "from labcore.analysis.data import get_data, data_info, DatasetAnalysis\n",
    "from labcore.plotting.basics import setup_plotting, format_ax, add_legend, ppcolormesh\n",
    "\n",
    "from labcore.setup.setup_notebook_analysis import *"
   ]
  },
  {
   "cell_type": "code",
   "execution_count": null,
   "id": "98d9c0af-3305-45bb-946d-2b7f4eeeed8a",
   "metadata": {},
   "outputs": [],
   "source": []
  },
  {
   "cell_type": "markdown",
   "id": "122fa691-a795-46f6-9c85-57c5cefa9e44",
   "metadata": {},
   "source": [
    "# Measurements"
   ]
  },
  {
   "cell_type": "markdown",
   "id": "23e5f596-1366-4fc9-9e8e-1be09633fe2b",
   "metadata": {},
   "source": [
    "## Raw data example: directly measure the DAC output with the ADC"
   ]
  },
  {
   "cell_type": "markdown",
   "id": "88658a24-3c54-4e7e-a665-02e1ac3a0564",
   "metadata": {},
   "source": [
    "### Run the measurement"
   ]
  },
  {
   "cell_type": "markdown",
   "id": "6c0236d9-81a6-41f8-91ce-84e56d87d933",
   "metadata": {},
   "source": [
    "Here, we define the entire measurment in the notebook.\n",
    "For measurements that we use regularly in some standard from, the QUA code is often placed into some version controlled module.\n",
    "\n",
    "Just for illustration and as a basic tutorial, we leave it here in this case.\n",
    "\n",
    "This measurement is very basic -- we play a readout pulse and directly read it in again.\n",
    "We include the raw data. See QM docs for reference.\n",
    "\n",
    "We make use of our own sweep framework that enables us to hide a lot of technical overhead in the background here.\n",
    "It also automatically sets up correctly labeled data."
   ]
  },
  {
   "cell_type": "code",
   "execution_count": 20,
   "id": "d069b637-073c-43df-bfc2-f9e034fc5f59",
   "metadata": {
    "tags": []
   },
   "outputs": [
    {
     "name": "stdout",
     "output_type": "stream",
     "text": [
      "[2022-12-02 17:16:35.522] [plottr.data.datadict_storage: INFO] Data location: /home/pfafflab/Documents/github/measurement-tools/examples/opx_demos/data/2022-12-02/2022-12-02T171635_5da67cea-test/data.ddh5\n",
      "[2022-12-02 17:16:35.532] [qm: INFO] Performing health check\n",
      "[2022-12-02 17:16:35.534] [qm: INFO] Health check passed\n",
      "[2022-12-02 17:16:35.540] [root: INFO] Integration weights file not found, using flat weights.\n",
      "[2022-12-02 17:16:35.547] [qm: INFO] Performing health check\n",
      "[2022-12-02 17:16:35.550] [qm: INFO] Health check passed\n",
      "chunksize: 5\n",
      "n_chunks: 50\n",
      "[2022-12-02 17:16:35.605] [qm: INFO] Flags: \n",
      "[2022-12-02 17:16:35.606] [qm: INFO] Sending program to QOP\n",
      "[2022-12-02 17:16:35.857] [qm: INFO] Executing program\n",
      "[2022-12-02 17:16:36.216] [labcore.ddh5: INFO] The measurement has finished successfully and all of the data has been saved.\n"
     ]
    }
   ],
   "source": [
    "from qm.qua import *\n",
    "from labcore.sweep import independent\n",
    "from labcore.opx.sweep import \\\n",
    "    RecordOPXdata, ComplexOPXData, TimedOPXData\n",
    "\n",
    "@RecordOPXdata(\n",
    "    independent('repetition'),\n",
    "    TimedOPXData('raw_signal', depends_on=['repetition']),\n",
    "    TimedOPXData('I', depends_on=['repetition']),\n",
    "    TimedOPXData('Q', depends_on=['repetition']),\n",
    ")\n",
    "def measure_opx_output(n_reps=10, rep_delay_ns=0):\n",
    "    # this is in units of 4 ns.\n",
    "    # for the data to look 'good', make sure that you have a chunksize that has an even number of\n",
    "    # IF periods contained in it.\n",
    "    _chunksize = int(20 // 4)\n",
    "    _n_chunks = params.readout.short.len() // (4 * _chunksize)\n",
    "    \n",
    "    with program() as raw_measurement:\n",
    "        rep_stream = declare_stream()\n",
    "        raw_stream = declare_stream(adc_trace=True)\n",
    "        i_stream = declare_stream()\n",
    "        q_stream = declare_stream()\n",
    "\n",
    "        rep = declare(int)\n",
    "        I = declare(fixed, size=_n_chunks)\n",
    "        Q = declare(fixed, size=_n_chunks)\n",
    "        j = declare(int)\n",
    "    \n",
    "        with for_(rep, 0, rep < n_reps, rep + 1):\n",
    "            measure('readout_short', 'readout', raw_stream, \n",
    "                    demod.sliced(\"readout_short_sliced_cos\", I, _chunksize),\n",
    "                    demod.sliced(\"readout_short_sliced_sin\", Q, _chunksize),)\n",
    "            \n",
    "            save(rep, rep_stream)\n",
    "            \n",
    "            with for_(j, 0, j < _n_chunks, j + 1):\n",
    "                save(I[j], i_stream)\n",
    "                save(Q[j], q_stream)\n",
    "                \n",
    "            if rep_delay_ns > 20:\n",
    "                wait(int(rep_delay_ns)//4)\n",
    "\n",
    "        with stream_processing():\n",
    "            raw_stream.input2().save_all('raw_signal')\n",
    "            rep_stream.save_all('repetition')\n",
    "            i_stream.buffer(_n_chunks).save_all('I')\n",
    "            q_stream.buffer(_n_chunks).save_all('Q')\n",
    "            \n",
    "    return raw_measurement\n",
    "\n",
    "\n",
    "measurement = measure_opx_output(n_reps=100,\n",
    "                                 rep_delay_ns=1e6, \n",
    "                                 collector_options=dict(batchsize=10)\n",
    "                                 )\n",
    "data_loc, _ = run_measurement(sweep=measurement, name='test')"
   ]
  },
  {
   "cell_type": "markdown",
   "id": "c8808475-cfe4-4fe6-90a7-fe92c4213857",
   "metadata": {},
   "source": [
    "### Analyse the data"
   ]
  },
  {
   "cell_type": "code",
   "execution_count": 21,
   "id": "77fed77a-e931-4879-8de9-67581696b33a",
   "metadata": {},
   "outputs": [
    {
     "name": "stdout",
     "output_type": "stream",
     "text": [
      "I: (100, 50)\n",
      "  ⌙ I_time_points: (100, 50)\n",
      "  ⌙ repetition: (100,)\n",
      "Q: (100, 50)\n",
      "  ⌙ Q_time_points: (100, 50)\n",
      "  ⌙ repetition: (100,)\n",
      "raw_signal: (100, 1000)\n",
      "  ⌙ raw_signal_time_points: (100, 1000)\n",
      "  ⌙ repetition: (100,)\n"
     ]
    }
   ],
   "source": [
    "### get some basic information about the data we just wrote\n",
    "data_info(data_loc)"
   ]
  },
  {
   "cell_type": "code",
   "execution_count": 22,
   "id": "eaa38d47-eefe-4254-aee3-299f686d757f",
   "metadata": {},
   "outputs": [
    {
     "name": "stderr",
     "output_type": "stream",
     "text": [
      "/home/pfafflab/Documents/github/measurement-tools/qcuiuc_measurement/analysis/plotting.py:264: MatplotlibDeprecationWarning: shading='flat' when X and Y have the same dimensions as C is deprecated since 3.3.  Either specify the corners of the quadrilaterals with X and Y, or pass shading='auto', 'nearest' or 'gouraud', or set rcParams['pcolor.shading'].  This will become an error two minor releases later.\n",
      "  im = ax.pcolormesh(_x, _y, z, cmap=cmap, **kw)\n"
     ]
    },
    {
     "data": {
      "image/png": "[encoded data removed]",
      "text/plain": [
       "<Figure size 800x400 with 3 Axes>"
      ]
     },
     "metadata": {},
     "output_type": "display_data"
    }
   ],
   "source": [
    "### using the DatasetAnalysis context helps us to load data easily, and automatically save plots in the right folder.\n",
    "\n",
    "with DatasetAnalysis(data_loc) as analysis:\n",
    "    i_data = analysis.get_data('I', avg_over=None)\n",
    "    q_data = analysis.get_data('Q', avg_over=None)\n",
    "    raw_data = analysis.get_data('raw_signal', avg_over=None)\n",
    "    \n",
    "    fig = analysis.make_figure('a plot', figsize=(4,2))\n",
    "    \n",
    "    # first subfig: plot the raw voltage as a colormap. We set the limits such that 0 is the middle.\n",
    "    ax = fig.add_subplot(121)\n",
    "    im = ppcolormesh(ax,\n",
    "                     raw_data.data_vals('raw_signal_time_points'),\n",
    "                     raw_data.data_vals('repetition'),\n",
    "                     raw_data.data_vals('raw_signal'),\n",
    "                     make_grid=False,\n",
    "                     cmap='bwr', \n",
    "                     vmin=-np.abs(raw_data.data_vals('raw_signal')).max(),\n",
    "                     vmax=np.abs(raw_data.data_vals('raw_signal')).max()\n",
    "                     )\n",
    "    format_ax(ax, xlabel='time (ns)', ylabel='repetition')\n",
    "    cb = fig.colorbar(im, ax=ax, location='top')\n",
    "    cb.set_label('ADC signal (a.u.)')\n",
    "    \n",
    "    # second subfig: plot one example trace of demodulated I and Q.\n",
    "    ax = fig.add_subplot(122)\n",
    "    ax.plot(i_data.data_vals('I_time_points')[:,0], i_data.data_vals('I')[:,0], '-',\n",
    "            label='I')\n",
    "    ax.plot(q_data.data_vals('Q_time_points')[:,0], q_data.data_vals('Q')[:,0], '-',\n",
    "            label='Q')\n",
    "    format_ax(ax, xlabel='time (chunks)', ylabel='demod. signal (a.u.)')\n",
    "    ax.legend(loc='best')\n",
    "    \n",
    "    # this command saves the figures associated with the analysis in the data folder.\n",
    "    analysis.save()"
   ]
  },
  {
   "cell_type": "code",
   "execution_count": null,
   "id": "79e604d3-759b-4fe2-83bb-31990a667c2e",
   "metadata": {},
   "outputs": [],
   "source": []
  }
 ],
 "metadata": {
  "kernelspec": {
   "display_name": "Python [conda env:qcodes]",
   "language": "python",
   "name": "conda-env-qcodes-py"
  },
  "language_info": {
   "codemirror_mode": {
    "name": "ipython",
    "version": 3
   },
   "file_extension": ".py",
   "mimetype": "text/x-python",
   "name": "python",
   "nbconvert_exporter": "python",
   "pygments_lexer": "ipython3",
   "version": "3.9.15"
  },
  "toc-autonumbering": true
 },
 "nbformat": 4,
 "nbformat_minor": 5
}
