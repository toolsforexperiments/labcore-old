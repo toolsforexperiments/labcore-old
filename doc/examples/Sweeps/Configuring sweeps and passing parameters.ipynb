{
 "cells": [
  {
   "cell_type": "code",
   "execution_count": 1,
   "id": "1058f550-2128-4cc7-8721-6d57c9bccf93",
   "metadata": {},
   "outputs": [],
   "source": [
    "%load_ext autoreload\n",
    "%autoreload 2"
   ]
  },
  {
   "cell_type": "code",
   "execution_count": null,
   "id": "28883f7c-cfac-4233-9010-5e477e6b3933",
   "metadata": {},
   "outputs": [],
   "source": []
  },
  {
   "cell_type": "code",
   "execution_count": null,
   "id": "d8ec6111-fc80-431e-95cc-fbeddc8ffdf8",
   "metadata": {},
   "outputs": [],
   "source": []
  },
  {
   "cell_type": "code",
   "execution_count": 2,
   "id": "97f6b896-b8ad-4e1b-9e7e-12c12bb75f74",
   "metadata": {},
   "outputs": [],
   "source": [
    "from labcore.measurement import *"
   ]
  },
  {
   "cell_type": "code",
   "execution_count": null,
   "id": "4de1fb17-37ae-4fe7-b8be-e8d786a850c1",
   "metadata": {},
   "outputs": [],
   "source": []
  },
  {
   "cell_type": "code",
   "execution_count": null,
   "id": "1fbcd92d-0905-4ce5-b25c-e285ac250629",
   "metadata": {},
   "outputs": [],
   "source": []
  },
  {
   "cell_type": "code",
   "execution_count": 52,
   "id": "c755b06a-7417-4e43-aa00-1e5666a98427",
   "metadata": {},
   "outputs": [
    {
     "name": "stdout",
     "output_type": "stream",
     "text": [
      "args+kwargs: (0,) {}\n",
      "args+kwargs: (<__main__.Test object at 0x16cb71fa0>, 0) {}\n",
      "setting value = <__main__.Test object at 0x16cb71fa0>\n",
      "value id: 6118907808\n",
      "obj id: 4366563936\n",
      "args+kwargs: (0,) {'method': 'new_method'}\n",
      "args+kwargs: (0,) {'method': 'abc'}\n",
      "measuring with method abc\n",
      "method id: 4513806064\n",
      "obj id: 4366563936\n",
      "args+kwargs: (0,) {'x': 1, 'y': 2, 'method': 'new_method'}\n",
      "args+kwargs: (0,) {'x': 1, 'y': 2, 'method': 'def'}\n",
      "measuring with method def\n",
      "method id: 4514788080\n",
      "obj id: 4366563936\n",
      "{'x': 1, 'y': 2}\n",
      "another_obj id: 6118907808\n",
      "\n",
      "args+kwargs: (1,) {'x': 1, 'y': 2}\n",
      "args+kwargs: (<__main__.Test object at 0x16cb71fa0>, 1) {'x': 1, 'y': 2}\n",
      "setting value = <__main__.Test object at 0x16cb71fa0>\n",
      "value id: 6118907808\n",
      "obj id: 4366563936\n",
      "args+kwargs: (1,) {'x': 1, 'y': 2, 'method': 'new_method'}\n",
      "args+kwargs: (1,) {'x': 1, 'y': 2, 'method': 'abc'}\n",
      "measuring with method abc\n",
      "method id: 4513806064\n",
      "obj id: 4366563936\n",
      "args+kwargs: (1,) {'x': 1, 'y': 2, 'method': 'new_method'}\n",
      "args+kwargs: (1,) {'x': 1, 'y': 2, 'method': 'def'}\n",
      "measuring with method def\n",
      "method id: 4514788080\n",
      "obj id: 4366563936\n",
      "{'x': 1, 'y': 2}\n",
      "another_obj id: 6118907808\n",
      "\n",
      "args+kwargs: (2,) {'x': 1, 'y': 2}\n",
      "args+kwargs: (<__main__.Test object at 0x16cb71fa0>, 2) {'x': 1, 'y': 2}\n",
      "setting value = <__main__.Test object at 0x16cb71fa0>\n",
      "value id: 6118907808\n",
      "obj id: 4366563936\n",
      "args+kwargs: (2,) {'x': 1, 'y': 2, 'method': 'new_method'}\n",
      "args+kwargs: (2,) {'x': 1, 'y': 2, 'method': 'abc'}\n",
      "measuring with method abc\n",
      "method id: 4513806064\n",
      "obj id: 4366563936\n",
      "args+kwargs: (2,) {'x': 1, 'y': 2, 'method': 'new_method'}\n",
      "args+kwargs: (2,) {'x': 1, 'y': 2, 'method': 'def'}\n",
      "measuring with method def\n",
      "method id: 4514788080\n",
      "obj id: 4366563936\n",
      "{'x': 1, 'y': 2}\n",
      "another_obj id: 6118907808\n",
      "\n",
      "args+kwargs: (3,) {'x': 1, 'y': 2}\n",
      "args+kwargs: (<__main__.Test object at 0x16cb71fa0>, 3) {'x': 1, 'y': 2}\n",
      "setting value = <__main__.Test object at 0x16cb71fa0>\n",
      "value id: 6118907808\n",
      "obj id: 4366563936\n",
      "args+kwargs: (3,) {'x': 1, 'y': 2, 'method': 'new_method'}\n",
      "args+kwargs: (3,) {'x': 1, 'y': 2, 'method': 'abc'}\n",
      "measuring with method abc\n",
      "method id: 4513806064\n",
      "obj id: 4366563936\n",
      "args+kwargs: (3,) {'x': 1, 'y': 2, 'method': 'new_method'}\n",
      "args+kwargs: (3,) {'x': 1, 'y': 2, 'method': 'def'}\n",
      "measuring with method def\n",
      "method id: 4514788080\n",
      "obj id: 4366563936\n",
      "{'x': 1, 'y': 2}\n",
      "another_obj id: 6118907808\n",
      "\n",
      "args+kwargs: (4,) {'x': 1, 'y': 2}\n",
      "args+kwargs: (<__main__.Test object at 0x16cb71fa0>, 4) {'x': 1, 'y': 2}\n",
      "setting value = <__main__.Test object at 0x16cb71fa0>\n",
      "value id: 6118907808\n",
      "obj id: 4366563936\n",
      "args+kwargs: (4,) {'x': 1, 'y': 2, 'method': 'new_method'}\n",
      "args+kwargs: (4,) {'x': 1, 'y': 2, 'method': 'abc'}\n",
      "measuring with method abc\n",
      "method id: 4513806064\n",
      "obj id: 4366563936\n",
      "args+kwargs: (4,) {'x': 1, 'y': 2, 'method': 'new_method'}\n",
      "args+kwargs: (4,) {'x': 1, 'y': 2, 'method': 'def'}\n",
      "measuring with method def\n",
      "method id: 4514788080\n",
      "obj id: 4366563936\n",
      "{'x': 1, 'y': 2}\n",
      "another_obj id: 6118907808\n",
      "\n"
     ]
    }
   ],
   "source": [
    "obj = None\n",
    "\n",
    "@recording(\n",
    "    indep('x'),\n",
    "    dep('y', depends_on=['x'])\n",
    ")\n",
    "def measure_something(method='a'):\n",
    "    print(f\"measuring with method {method}\")\n",
    "    print('method id:', id(method))\n",
    "    print('obj id:', id(obj))\n",
    "    return 1, 2\n",
    "    \n",
    "@recording()\n",
    "def configure_something(value):\n",
    "    print(f\"setting value = {value}\")\n",
    "    print('value id:', id(value))\n",
    "    print('obj id:', id(obj))\n",
    "    \n",
    "\n",
    "class Test:\n",
    "    text = 'Oi'\n",
    "    \n",
    "another_obj = Test()\n",
    "    \n",
    "sweep = Sweep(range(5), \n",
    "              configure_something.using(another_obj), \n",
    "              measure_something.using(method='abc'),\n",
    "              measure_something.using(method='def'))\n",
    "\n",
    "sweep.set_options(measure_something={'method': 'new_method'})\n",
    "\n",
    "\n",
    "for s in sweep:\n",
    "    print(s)\n",
    "    print('another_obj id:', id(another_obj))\n",
    "    print()"
   ]
  },
  {
   "cell_type": "code",
   "execution_count": 39,
   "id": "ff30fc7f-f8cf-43c5-bce8-959c7e0f65ab",
   "metadata": {},
   "outputs": [
    {
     "data": {
      "text/plain": [
       "4366563936"
      ]
     },
     "execution_count": 39,
     "metadata": {},
     "output_type": "execute_result"
    }
   ],
   "source": [
    "id(my_obj)"
   ]
  },
  {
   "cell_type": "code",
   "execution_count": 47,
   "id": "ddfab803-b979-41a3-9b4b-84d48765c8ba",
   "metadata": {},
   "outputs": [
    {
     "data": {
      "text/plain": [
       "measure_something(method='a') as {x, y(x)}"
      ]
     },
     "execution_count": 47,
     "metadata": {},
     "output_type": "execute_result"
    }
   ],
   "source": [
    "measure_something"
   ]
  },
  {
   "cell_type": "code",
   "execution_count": null,
   "id": "3bb015ba-d341-4de3-99b0-10d2bb97efa2",
   "metadata": {},
   "outputs": [],
   "source": []
  }
 ],
 "metadata": {
  "kernelspec": {
   "display_name": "Python [conda env:msmt-pyqt5]",
   "language": "python",
   "name": "conda-env-msmt-pyqt5-py"
  },
  "language_info": {
   "codemirror_mode": {
    "name": "ipython",
    "version": 3
   },
   "file_extension": ".py",
   "mimetype": "text/x-python",
   "name": "python",
   "nbconvert_exporter": "python",
   "pygments_lexer": "ipython3",
   "version": "3.9.6"
  }
 },
 "nbformat": 4,
 "nbformat_minor": 5
}
